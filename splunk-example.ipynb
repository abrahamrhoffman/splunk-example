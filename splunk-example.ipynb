{
 "cells": [
  {
   "cell_type": "markdown",
   "metadata": {},
   "source": [
    "### Python Imports"
   ]
  },
  {
   "cell_type": "code",
   "execution_count": 1,
   "metadata": {},
   "outputs": [],
   "source": [
    "import splunklib.client as client\n",
    "import splunklib.results as results\n",
    "from utils import parse\n",
    "import sys,glob"
   ]
  },
  {
   "cell_type": "markdown",
   "metadata": {},
   "source": [
    "### Connection Setup"
   ]
  },
  {
   "cell_type": "code",
   "execution_count": 2,
   "metadata": {},
   "outputs": [],
   "source": [
    "# Define the Connection Options in a Dictionary\n",
    "connection_options = {\"host\": \"10.0.0.55\",\n",
    "                      \"username\": \"admin\",\n",
    "                      \"password\": \"ubuntu\",\n",
    "                      \"port\": 8089,\n",
    "                      \"scheme\": \"https\",\n",
    "                      \"version\": \"7.0.3\"}"
   ]
  },
  {
   "cell_type": "code",
   "execution_count": 3,
   "metadata": {},
   "outputs": [],
   "source": [
    "# Instantiate the Connection\n",
    "session = client.connect(**connection_options)"
   ]
  },
  {
   "cell_type": "code",
   "execution_count": 4,
   "metadata": {},
   "outputs": [
    {
     "name": "stdout",
     "output_type": "stream",
     "text": [
      "Splunk License(s) : Splunk Enterprise\n",
      "Splunk Version    : 7.0.3\n",
      "Operating System  : Ubuntu\n",
      "CPU Architecture  : x86_64\n",
      "Number of Cores   : 4\n",
      "Physical Memory   : 16047\n"
     ]
    }
   ],
   "source": [
    "# List Splunk Server Version, License and Resources\n",
    "print(\"Splunk License(s) : {}\".format(session.info.license_labels[0].split(\"   \")[0]))\n",
    "print(\"Splunk Version    : {}\".format(session.info.version))\n",
    "print(\"Operating System  : {}\".format(session.info.os_build.split(\"-\")[1].split(\" \")[0]))\n",
    "print(\"CPU Architecture  : {}\".format(session.info.cpu_arch))\n",
    "print(\"Number of Cores   : {}\".format(session.info.numberOfCores))\n",
    "print(\"Physical Memory   : {}\".format(session.info.physicalMemoryMB))"
   ]
  },
  {
   "cell_type": "markdown",
   "metadata": {},
   "source": [
    "### Push Data into Splunk"
   ]
  },
  {
   "cell_type": "code",
   "execution_count": 5,
   "metadata": {},
   "outputs": [],
   "source": [
    "for _ in range(3):\n",
    "    index = session.indexes[\"main\"]\n",
    "    socket = index.attach(sourcetype='Test HTTP Stream')\n",
    "    data = (b'This is a test\\r\\n')\n",
    "    socket.send(data)\n",
    "    socket.close()"
   ]
  },
  {
   "cell_type": "markdown",
   "metadata": {},
   "source": [
    "### Query Data from Splunk"
   ]
  },
  {
   "cell_type": "code",
   "execution_count": 10,
   "metadata": {},
   "outputs": [],
   "source": [
    "def splunkQuery(aQuery):\n",
    "    try:\n",
    "        jobs = session.jobs\n",
    "        job = jobs.create(aQuery)\n",
    "        aResult = []\n",
    "        while len(aResult) < 1:\n",
    "            for oDict in results.ResultsReader(job.results()):\n",
    "                aResult.append({ \"_indextime\": oDict['_indextime'], \"_raw\": oDict['_raw']})\n",
    "        return aResult\n",
    "    except:\n",
    "        return (\"Query failed. Validate connection, session and syntax.\")"
   ]
  },
  {
   "cell_type": "code",
   "execution_count": 11,
   "metadata": {},
   "outputs": [
    {
     "data": {
      "text/plain": [
       "[{'_indextime': '1522765636', '_raw': 'This is a test'},\n",
       " {'_indextime': '1522765636', '_raw': 'This is a test'},\n",
       " {'_indextime': '1522765636', '_raw': 'This is a test'},\n",
       " {'_indextime': '1522660496', '_raw': 'This is a test'},\n",
       " {'_indextime': '1522660496', '_raw': 'This is a test'},\n",
       " {'_indextime': '1522660496', '_raw': 'This is a test'},\n",
       " {'_indextime': '1522651365', '_raw': 'This is a test'},\n",
       " {'_indextime': '1522651365', '_raw': 'This is a test'},\n",
       " {'_indextime': '1522651365', '_raw': 'This is a test'},\n",
       " {'_indextime': '1522644609', '_raw': 'This is a test'},\n",
       " {'_indextime': '1522644609', '_raw': 'This is a test'},\n",
       " {'_indextime': '1522644609', '_raw': 'This is a test'},\n",
       " {'_indextime': '1522575626', '_raw': 'This is a test'},\n",
       " {'_indextime': '1522575626', '_raw': 'This is a test'},\n",
       " {'_indextime': '1522575626', '_raw': 'This is a test'},\n",
       " {'_indextime': '1522575562', '_raw': 'This is a test'},\n",
       " {'_indextime': '1522575562', '_raw': 'This is a test'},\n",
       " {'_indextime': '1522575562', '_raw': 'This is a test'},\n",
       " {'_indextime': '1522574577', '_raw': 'This is a test'},\n",
       " {'_indextime': '1522574577', '_raw': 'This is a test'},\n",
       " {'_indextime': '1522574577', '_raw': 'This is a test'},\n",
       " {'_indextime': '1522573584', '_raw': 'This is a test'},\n",
       " {'_indextime': '1522573584', '_raw': 'This is a test'},\n",
       " {'_indextime': '1522573584', '_raw': 'This is a test'},\n",
       " {'_indextime': '1522573252', '_raw': 'This is a test'}]"
      ]
     },
     "execution_count": 11,
     "metadata": {},
     "output_type": "execute_result"
    }
   ],
   "source": [
    "splunkQuery('search * sourcetype=\"Test HTTP Stream\"')"
   ]
  },
  {
   "cell_type": "code",
   "execution_count": null,
   "metadata": {},
   "outputs": [],
   "source": []
  }
 ],
 "metadata": {
  "kernelspec": {
   "display_name": "splunk",
   "language": "python",
   "name": "splunk"
  },
  "language_info": {
   "codemirror_mode": {
    "name": "ipython",
    "version": 3
   },
   "file_extension": ".py",
   "mimetype": "text/x-python",
   "name": "python",
   "nbconvert_exporter": "python",
   "pygments_lexer": "ipython3",
   "version": "3.5.2"
  }
 },
 "nbformat": 4,
 "nbformat_minor": 2
}
